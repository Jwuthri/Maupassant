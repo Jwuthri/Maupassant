{
 "cells": [
  {
   "cell_type": "code",
   "execution_count": 3,
   "metadata": {},
   "outputs": [],
   "source": [
    "import os\n",
    "import tqdm\n",
    "\n",
    "import pandas as pd\n",
    "import numpy as np\n",
    "\n",
    "from maupassant.settings import DATASET_PATH"
   ]
  },
  {
   "cell_type": "code",
   "execution_count": 4,
   "metadata": {},
   "outputs": [],
   "source": [
    "# sentiment_path = os.path.join(DATASET_PATH, \"sentiment.csv\")\n",
    "sentiment_path = \"clean_sentiment.csv\"\n",
    "sentiment = pd.read_csv(sentiment_path)"
   ]
  },
  {
   "cell_type": "code",
   "execution_count": 5,
   "metadata": {},
   "outputs": [
    {
     "data": {
      "text/html": [
       "<div>\n",
       "<style scoped>\n",
       "    .dataframe tbody tr th:only-of-type {\n",
       "        vertical-align: middle;\n",
       "    }\n",
       "\n",
       "    .dataframe tbody tr th {\n",
       "        vertical-align: top;\n",
       "    }\n",
       "\n",
       "    .dataframe thead th {\n",
       "        text-align: right;\n",
       "    }\n",
       "</style>\n",
       "<table border=\"1\" class=\"dataframe\">\n",
       "  <thead>\n",
       "    <tr style=\"text-align: right;\">\n",
       "      <th></th>\n",
       "      <th>Unnamed: 0</th>\n",
       "      <th>feature</th>\n",
       "      <th>insult</th>\n",
       "      <th>negative</th>\n",
       "      <th>neutral</th>\n",
       "      <th>obscene</th>\n",
       "      <th>offensive</th>\n",
       "      <th>positive</th>\n",
       "      <th>toxic</th>\n",
       "    </tr>\n",
       "  </thead>\n",
       "  <tbody>\n",
       "    <tr>\n",
       "      <th>0</th>\n",
       "      <td>0</td>\n",
       "      <td>\"\\nEDIT Also you might have misunderstood abou...</td>\n",
       "      <td>0.0</td>\n",
       "      <td>0</td>\n",
       "      <td>1</td>\n",
       "      <td>0.0</td>\n",
       "      <td>0.0</td>\n",
       "      <td>0</td>\n",
       "      <td>0.0</td>\n",
       "    </tr>\n",
       "    <tr>\n",
       "      <th>1</th>\n",
       "      <td>1</td>\n",
       "      <td>What?\\n\\nThen stop deleting my work. Then mayb...</td>\n",
       "      <td>0.0</td>\n",
       "      <td>1</td>\n",
       "      <td>0</td>\n",
       "      <td>0.0</td>\n",
       "      <td>0.0</td>\n",
       "      <td>0</td>\n",
       "      <td>0.0</td>\n",
       "    </tr>\n",
       "    <tr>\n",
       "      <th>2</th>\n",
       "      <td>2</td>\n",
       "      <td>|HAHA! A string of racist and religious attack...</td>\n",
       "      <td>0.0</td>\n",
       "      <td>0</td>\n",
       "      <td>1</td>\n",
       "      <td>0.0</td>\n",
       "      <td>0.0</td>\n",
       "      <td>0</td>\n",
       "      <td>0.0</td>\n",
       "    </tr>\n",
       "    <tr>\n",
       "      <th>3</th>\n",
       "      <td>3</td>\n",
       "      <td>You are welcome to leave  a message. I may not...</td>\n",
       "      <td>0.0</td>\n",
       "      <td>0</td>\n",
       "      <td>0</td>\n",
       "      <td>0.0</td>\n",
       "      <td>0.0</td>\n",
       "      <td>1</td>\n",
       "      <td>0.0</td>\n",
       "    </tr>\n",
       "    <tr>\n",
       "      <th>4</th>\n",
       "      <td>4</td>\n",
       "      <td>Please refrain from adding nonsense to Wikiped...</td>\n",
       "      <td>0.0</td>\n",
       "      <td>0</td>\n",
       "      <td>1</td>\n",
       "      <td>0.0</td>\n",
       "      <td>0.0</td>\n",
       "      <td>0</td>\n",
       "      <td>0.0</td>\n",
       "    </tr>\n",
       "  </tbody>\n",
       "</table>\n",
       "</div>"
      ],
      "text/plain": [
       "   Unnamed: 0                                            feature  insult  \\\n",
       "0           0  \"\\nEDIT Also you might have misunderstood abou...     0.0   \n",
       "1           1  What?\\n\\nThen stop deleting my work. Then mayb...     0.0   \n",
       "2           2  |HAHA! A string of racist and religious attack...     0.0   \n",
       "3           3  You are welcome to leave  a message. I may not...     0.0   \n",
       "4           4  Please refrain from adding nonsense to Wikiped...     0.0   \n",
       "\n",
       "   negative  neutral  obscene  offensive  positive  toxic  \n",
       "0         0        1      0.0        0.0         0    0.0  \n",
       "1         1        0      0.0        0.0         0    0.0  \n",
       "2         0        1      0.0        0.0         0    0.0  \n",
       "3         0        0      0.0        0.0         1    0.0  \n",
       "4         0        1      0.0        0.0         0    0.0  "
      ]
     },
     "execution_count": 5,
     "metadata": {},
     "output_type": "execute_result"
    }
   ],
   "source": [
    "sentiment.head()"
   ]
  },
  {
   "cell_type": "code",
   "execution_count": 14,
   "metadata": {},
   "outputs": [
    {
     "name": "stderr",
     "output_type": "stream",
     "text": [
      "100%|██████████| 159456/159456 [06:00<00:00, 442.66it/s]\n"
     ]
    }
   ],
   "source": [
    "cols_binary = ['negative', 'positive', 'neutral']\n",
    "cols_multi = [\"insult\", \"negative\", \"neutral\", \"obscene\", \"positive\", \"toxic\"]\n",
    "cols_single = ['negative', 'positive', 'neutral']\n",
    "\n",
    "\n",
    "binary, multi, single = [], [], []\n",
    "pbar = tqdm.tqdm(total=len(sentiment))\n",
    "for idx, row in sentiment.iterrows():\n",
    "    p_binary = row[cols_binary] == 1\n",
    "    p_multi = row[cols_multi] == 1\n",
    "    p_single = row[cols_single] == 1\n",
    "\n",
    "    try:\n",
    "        val = np.asarray(cols_binary)[p_binary.values][0]\n",
    "        if val == \"neutral\":\n",
    "            val = \"positive\"\n",
    "        binary.append(\n",
    "            val\n",
    "        )\n",
    "    except:\n",
    "        binary.append(\n",
    "            \"negative\"\n",
    "        )\n",
    "\n",
    "    multi.append(\n",
    "        np.asarray(cols_multi)[p_multi.values].tolist()\n",
    "    )\n",
    "\n",
    "    try:\n",
    "        single.append(\n",
    "            np.asarray(cols_single)[p_single.values][0]\n",
    "        )\n",
    "    except:\n",
    "        single.append(\n",
    "            \"negative\"\n",
    "        )\n",
    "\n",
    "    pbar.update(1)\n",
    "pbar.close()"
   ]
  },
  {
   "cell_type": "code",
   "execution_count": 15,
   "metadata": {},
   "outputs": [],
   "source": [
    "sentiment['binary'] = binary\n",
    "sentiment['multi'] = multi\n",
    "sentiment['single'] = single"
   ]
  },
  {
   "cell_type": "code",
   "execution_count": 16,
   "metadata": {},
   "outputs": [
    {
     "data": {
      "text/html": [
       "<div>\n",
       "<style scoped>\n",
       "    .dataframe tbody tr th:only-of-type {\n",
       "        vertical-align: middle;\n",
       "    }\n",
       "\n",
       "    .dataframe tbody tr th {\n",
       "        vertical-align: top;\n",
       "    }\n",
       "\n",
       "    .dataframe thead th {\n",
       "        text-align: right;\n",
       "    }\n",
       "</style>\n",
       "<table border=\"1\" class=\"dataframe\">\n",
       "  <thead>\n",
       "    <tr style=\"text-align: right;\">\n",
       "      <th></th>\n",
       "      <th>Unnamed: 0</th>\n",
       "      <th>feature</th>\n",
       "      <th>insult</th>\n",
       "      <th>negative</th>\n",
       "      <th>neutral</th>\n",
       "      <th>obscene</th>\n",
       "      <th>offensive</th>\n",
       "      <th>positive</th>\n",
       "      <th>toxic</th>\n",
       "      <th>binary</th>\n",
       "      <th>multi</th>\n",
       "      <th>single</th>\n",
       "    </tr>\n",
       "  </thead>\n",
       "  <tbody>\n",
       "    <tr>\n",
       "      <th>0</th>\n",
       "      <td>0</td>\n",
       "      <td>\"\\nEDIT Also you might have misunderstood abou...</td>\n",
       "      <td>0.0</td>\n",
       "      <td>0</td>\n",
       "      <td>1</td>\n",
       "      <td>0.0</td>\n",
       "      <td>0.0</td>\n",
       "      <td>0</td>\n",
       "      <td>0.0</td>\n",
       "      <td>positive</td>\n",
       "      <td>[neutral]</td>\n",
       "      <td>neutral</td>\n",
       "    </tr>\n",
       "    <tr>\n",
       "      <th>1</th>\n",
       "      <td>1</td>\n",
       "      <td>What?\\n\\nThen stop deleting my work. Then mayb...</td>\n",
       "      <td>0.0</td>\n",
       "      <td>1</td>\n",
       "      <td>0</td>\n",
       "      <td>0.0</td>\n",
       "      <td>0.0</td>\n",
       "      <td>0</td>\n",
       "      <td>0.0</td>\n",
       "      <td>negative</td>\n",
       "      <td>[negative]</td>\n",
       "      <td>negative</td>\n",
       "    </tr>\n",
       "    <tr>\n",
       "      <th>2</th>\n",
       "      <td>2</td>\n",
       "      <td>|HAHA! A string of racist and religious attack...</td>\n",
       "      <td>0.0</td>\n",
       "      <td>0</td>\n",
       "      <td>1</td>\n",
       "      <td>0.0</td>\n",
       "      <td>0.0</td>\n",
       "      <td>0</td>\n",
       "      <td>0.0</td>\n",
       "      <td>positive</td>\n",
       "      <td>[neutral]</td>\n",
       "      <td>neutral</td>\n",
       "    </tr>\n",
       "    <tr>\n",
       "      <th>3</th>\n",
       "      <td>3</td>\n",
       "      <td>You are welcome to leave  a message. I may not...</td>\n",
       "      <td>0.0</td>\n",
       "      <td>0</td>\n",
       "      <td>0</td>\n",
       "      <td>0.0</td>\n",
       "      <td>0.0</td>\n",
       "      <td>1</td>\n",
       "      <td>0.0</td>\n",
       "      <td>positive</td>\n",
       "      <td>[positive]</td>\n",
       "      <td>positive</td>\n",
       "    </tr>\n",
       "    <tr>\n",
       "      <th>4</th>\n",
       "      <td>4</td>\n",
       "      <td>Please refrain from adding nonsense to Wikiped...</td>\n",
       "      <td>0.0</td>\n",
       "      <td>0</td>\n",
       "      <td>1</td>\n",
       "      <td>0.0</td>\n",
       "      <td>0.0</td>\n",
       "      <td>0</td>\n",
       "      <td>0.0</td>\n",
       "      <td>positive</td>\n",
       "      <td>[neutral]</td>\n",
       "      <td>neutral</td>\n",
       "    </tr>\n",
       "    <tr>\n",
       "      <th>...</th>\n",
       "      <td>...</td>\n",
       "      <td>...</td>\n",
       "      <td>...</td>\n",
       "      <td>...</td>\n",
       "      <td>...</td>\n",
       "      <td>...</td>\n",
       "      <td>...</td>\n",
       "      <td>...</td>\n",
       "      <td>...</td>\n",
       "      <td>...</td>\n",
       "      <td>...</td>\n",
       "      <td>...</td>\n",
       "    </tr>\n",
       "    <tr>\n",
       "      <th>159451</th>\n",
       "      <td>159637</td>\n",
       "      <td>@_shannon1234 Shannie im so sorry! didnt mean ...</td>\n",
       "      <td>0.0</td>\n",
       "      <td>1</td>\n",
       "      <td>0</td>\n",
       "      <td>0.0</td>\n",
       "      <td>0.0</td>\n",
       "      <td>0</td>\n",
       "      <td>0.0</td>\n",
       "      <td>negative</td>\n",
       "      <td>[negative]</td>\n",
       "      <td>negative</td>\n",
       "    </tr>\n",
       "    <tr>\n",
       "      <th>159452</th>\n",
       "      <td>159638</td>\n",
       "      <td>Im Slowing on My Tweets..Cuase I Lost My Phone</td>\n",
       "      <td>0.0</td>\n",
       "      <td>1</td>\n",
       "      <td>0</td>\n",
       "      <td>0.0</td>\n",
       "      <td>0.0</td>\n",
       "      <td>0</td>\n",
       "      <td>0.0</td>\n",
       "      <td>negative</td>\n",
       "      <td>[negative]</td>\n",
       "      <td>negative</td>\n",
       "    </tr>\n",
       "    <tr>\n",
       "      <th>159453</th>\n",
       "      <td>159639</td>\n",
       "      <td>Invasion of the Old Ladies has just ended, sti...</td>\n",
       "      <td>0.0</td>\n",
       "      <td>0</td>\n",
       "      <td>1</td>\n",
       "      <td>0.0</td>\n",
       "      <td>0.0</td>\n",
       "      <td>0</td>\n",
       "      <td>0.0</td>\n",
       "      <td>positive</td>\n",
       "      <td>[neutral]</td>\n",
       "      <td>neutral</td>\n",
       "    </tr>\n",
       "    <tr>\n",
       "      <th>159454</th>\n",
       "      <td>159640</td>\n",
       "      <td>$#@! My nose stud fell out and I can't find it...</td>\n",
       "      <td>0.0</td>\n",
       "      <td>1</td>\n",
       "      <td>0</td>\n",
       "      <td>0.0</td>\n",
       "      <td>0.0</td>\n",
       "      <td>0</td>\n",
       "      <td>0.0</td>\n",
       "      <td>negative</td>\n",
       "      <td>[negative]</td>\n",
       "      <td>negative</td>\n",
       "    </tr>\n",
       "    <tr>\n",
       "      <th>159455</th>\n",
       "      <td>159641</td>\n",
       "      <td>Will do</td>\n",
       "      <td>0.0</td>\n",
       "      <td>0</td>\n",
       "      <td>1</td>\n",
       "      <td>0.0</td>\n",
       "      <td>0.0</td>\n",
       "      <td>0</td>\n",
       "      <td>0.0</td>\n",
       "      <td>positive</td>\n",
       "      <td>[neutral]</td>\n",
       "      <td>neutral</td>\n",
       "    </tr>\n",
       "  </tbody>\n",
       "</table>\n",
       "<p>159456 rows × 12 columns</p>\n",
       "</div>"
      ],
      "text/plain": [
       "        Unnamed: 0                                            feature  insult  \\\n",
       "0                0  \"\\nEDIT Also you might have misunderstood abou...     0.0   \n",
       "1                1  What?\\n\\nThen stop deleting my work. Then mayb...     0.0   \n",
       "2                2  |HAHA! A string of racist and religious attack...     0.0   \n",
       "3                3  You are welcome to leave  a message. I may not...     0.0   \n",
       "4                4  Please refrain from adding nonsense to Wikiped...     0.0   \n",
       "...            ...                                                ...     ...   \n",
       "159451      159637  @_shannon1234 Shannie im so sorry! didnt mean ...     0.0   \n",
       "159452      159638     Im Slowing on My Tweets..Cuase I Lost My Phone     0.0   \n",
       "159453      159639  Invasion of the Old Ladies has just ended, sti...     0.0   \n",
       "159454      159640  $#@! My nose stud fell out and I can't find it...     0.0   \n",
       "159455      159641                                            Will do     0.0   \n",
       "\n",
       "        negative  neutral  obscene  offensive  positive  toxic    binary  \\\n",
       "0              0        1      0.0        0.0         0    0.0  positive   \n",
       "1              1        0      0.0        0.0         0    0.0  negative   \n",
       "2              0        1      0.0        0.0         0    0.0  positive   \n",
       "3              0        0      0.0        0.0         1    0.0  positive   \n",
       "4              0        1      0.0        0.0         0    0.0  positive   \n",
       "...          ...      ...      ...        ...       ...    ...       ...   \n",
       "159451         1        0      0.0        0.0         0    0.0  negative   \n",
       "159452         1        0      0.0        0.0         0    0.0  negative   \n",
       "159453         0        1      0.0        0.0         0    0.0  positive   \n",
       "159454         1        0      0.0        0.0         0    0.0  negative   \n",
       "159455         0        1      0.0        0.0         0    0.0  positive   \n",
       "\n",
       "             multi    single  \n",
       "0        [neutral]   neutral  \n",
       "1       [negative]  negative  \n",
       "2        [neutral]   neutral  \n",
       "3       [positive]  positive  \n",
       "4        [neutral]   neutral  \n",
       "...            ...       ...  \n",
       "159451  [negative]  negative  \n",
       "159452  [negative]  negative  \n",
       "159453   [neutral]   neutral  \n",
       "159454  [negative]  negative  \n",
       "159455   [neutral]   neutral  \n",
       "\n",
       "[159456 rows x 12 columns]"
      ]
     },
     "execution_count": 16,
     "metadata": {},
     "output_type": "execute_result"
    }
   ],
   "source": [
    "sentiment"
   ]
  },
  {
   "cell_type": "code",
   "execution_count": 17,
   "metadata": {},
   "outputs": [],
   "source": [
    "sentiment.to_csv('sentiment.csv', index=False)"
   ]
  },
  {
   "cell_type": "code",
   "execution_count": 18,
   "metadata": {},
   "outputs": [],
   "source": [
    "from sklearn.model_selection import train_test_split"
   ]
  },
  {
   "cell_type": "code",
   "execution_count": 20,
   "metadata": {},
   "outputs": [],
   "source": [
    "train, test = train_test_split(sentiment, test_size=0.2, random_state=42)"
   ]
  },
  {
   "cell_type": "code",
   "execution_count": 21,
   "metadata": {},
   "outputs": [
    {
     "data": {
      "text/plain": [
       "(127564, 12)"
      ]
     },
     "execution_count": 21,
     "metadata": {},
     "output_type": "execute_result"
    }
   ],
   "source": [
    "train.shape"
   ]
  },
  {
   "cell_type": "code",
   "execution_count": 22,
   "metadata": {},
   "outputs": [
    {
     "data": {
      "text/plain": [
       "(31892, 12)"
      ]
     },
     "execution_count": 22,
     "metadata": {},
     "output_type": "execute_result"
    }
   ],
   "source": [
    "test.shape"
   ]
  },
  {
   "cell_type": "code",
   "execution_count": 23,
   "metadata": {},
   "outputs": [],
   "source": [
    "test, val = train_test_split(test, test_size=0.5, random_state=42)"
   ]
  },
  {
   "cell_type": "code",
   "execution_count": 24,
   "metadata": {},
   "outputs": [
    {
     "data": {
      "text/plain": [
       "(15946, 12)"
      ]
     },
     "execution_count": 24,
     "metadata": {},
     "output_type": "execute_result"
    }
   ],
   "source": [
    "test.shape"
   ]
  },
  {
   "cell_type": "code",
   "execution_count": 25,
   "metadata": {},
   "outputs": [
    {
     "data": {
      "text/plain": [
       "(15946, 12)"
      ]
     },
     "execution_count": 25,
     "metadata": {},
     "output_type": "execute_result"
    }
   ],
   "source": [
    "val.shape"
   ]
  },
  {
   "cell_type": "code",
   "execution_count": 26,
   "metadata": {},
   "outputs": [],
   "source": [
    "train.to_csv('sentiment_train.csv', index=False)\n",
    "test.to_csv('sentiment_test.csv', index=False)\n",
    "val.to_csv('sentiment_val.csv', index=False)"
   ]
  },
  {
   "cell_type": "code",
   "execution_count": null,
   "metadata": {},
   "outputs": [],
   "source": []
  }
 ],
 "metadata": {
  "kernelspec": {
   "display_name": "Python 3",
   "language": "python",
   "name": "python3"
  },
  "language_info": {
   "codemirror_mode": {
    "name": "ipython",
    "version": 3
   },
   "file_extension": ".py",
   "mimetype": "text/x-python",
   "name": "python",
   "nbconvert_exporter": "python",
   "pygments_lexer": "ipython3",
   "version": "3.7.6"
  }
 },
 "nbformat": 4,
 "nbformat_minor": 4
}
